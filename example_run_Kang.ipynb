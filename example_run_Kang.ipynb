{
 "cells": [
  {
   "cell_type": "code",
   "execution_count": null,
   "metadata": {
    "ExecuteTime": {
     "start_time": "2021-01-29T17:00:30.399Z"
    }
   },
   "outputs": [],
   "source": [
    "#Packages\n",
    "import anndata\n",
    "\n",
    "import tensorflow as tf\n",
    "import numpy as np\n",
    "from matplotlib import pyplot as plt\n",
    "import h5py\n",
    "import pandas as pd\n",
    "import re\n",
    "import os\n",
    "import time\n",
    "from sklearn.model_selection import train_test_split\n",
    "\n",
    "#Import code\n",
    "import encoder_decoder_builder_batch\n",
    "import mask_builder\n",
    "import model\n",
    "import training_pVAE"
   ]
  },
  {
   "cell_type": "code",
   "execution_count": null,
   "metadata": {},
   "outputs": [],
   "source": [
    "#Create Folder for ANN_data\n",
    "anndata_loc='/cluster/work/grlab/projects/projects2020-autoencoder_pathway/gamma_VAE/kang_2018/kang_count.h5ad'\n",
    "adata=anndata.read_h5ad(anndata_loc)"
   ]
  },
  {
   "cell_type": "code",
   "execution_count": null,
   "metadata": {},
   "outputs": [],
   "source": [
    "geneSets=[]\n",
    "for i in range(adata.varm[\"I\"].shape[1]):\n",
    "    geneSets.append(np.where(adata.varm[\"I\"][:,i]==1)[0])"
   ]
  },
  {
   "cell_type": "code",
   "execution_count": null,
   "metadata": {},
   "outputs": [],
   "source": [
    "auxillary_nodes=1\n",
    "for i in range(auxillary_nodes):\n",
    "    geneSets.append(np.arange(adata.X.shape[1]))"
   ]
  },
  {
   "cell_type": "code",
   "execution_count": null,
   "metadata": {},
   "outputs": [],
   "source": [
    "#Train/test split\n",
    "FPKM_train,FPKM_test=train_test_split(adata.X, shuffle=True,test_size=0.25)\n",
    "FPKM_test.shape"
   ]
  },
  {
   "cell_type": "code",
   "execution_count": null,
   "metadata": {},
   "outputs": [],
   "source": [
    "hidden_layers=[12]\n",
    "mask_encoder,mask_decoder=mask_builder.mask_builder(input_dim=FPKM_test.shape[1],\n",
    "                                                   hidden_layers=hidden_layers,\n",
    "                                                   geneSets=geneSets\n",
    "                                                   ,p_p_latent_dim=4)\n",
    "\n",
    "decoder_1,decoder_2=encoder_decoder_builder_batch.decoder_builder(mask_decoder=mask_decoder,kernel_initializer=\"he_uniform\"\n",
    "                    ,bias_initializer=\"zero\",activation_hidden=\"elu\",bias_last_layer=False)\n",
    "\n",
    "encoder=encoder_decoder_builder_batch.encoder_builder(mask_encoder=mask_encoder,kernel_initializer=\"he_uniform\"\n",
    "                    ,bias_initializer=\"zero\",activation_hidden=\"elu\")\n",
    "vae_two_layer = model.VAE(encoder=encoder,decoder_1=decoder_1,decoder_2=decoder_2,dim=[FPKM_test.shape[1],len(geneSets)])\n",
    "history,model_two = training_pVAE.train_VAE(training_data=FPKM_train,validation_data=FPKM_test,geneSets=geneSets,hidden=hidden_layers[0],\n",
    "                                                                  batch_size=256,num_epochs=1200,\n",
    "                                                                  model=vae_two_layer,beta=1e-05,\n",
    "                                                                      optimizer=tf.keras.optimizers.Adam(learning_rate=0.001),\n",
    "                                                                      verbose=True,auxillary_nodes=auxillary_nodes,full_loss=False)"
   ]
  },
  {
   "cell_type": "code",
   "execution_count": null,
   "metadata": {},
   "outputs": [],
   "source": [
    "fig,ax1 = plt.subplots(1, dpi=200,constrained_layout=True)\n",
    "plt.ylim()\n",
    "\n",
    "ax1.plot(history[\"Loss\"],label=\"Loss\")\n",
    "ax1.plot(history[\"Val Loss\"],label=\"Validation Loss\")\n",
    "ax1.set(xlabel='Epoch',\n",
    "       ylabel='Loss')\n",
    "\n",
    "chartBox = ax1.get_position()\n",
    "ax1.legend(loc='upper center', bbox_to_anchor=(1.3, 0.8), shadow=False, ncol=1,fontsize=8)\n"
   ]
  },
  {
   "cell_type": "code",
   "execution_count": null,
   "metadata": {},
   "outputs": [],
   "source": [
    "x_reconstructed, mu, log_var,z,last_layer=model_two.call(adata.X)\n",
    "z=np.asarray(z)\n",
    "    \n",
    "latent_sp=pd.DataFrame(z,columns=paths_ext)\n",
    "latent_sp.index=adata.obs_names\n"
   ]
  },
  {
   "cell_type": "code",
   "execution_count": null,
   "metadata": {},
   "outputs": [],
   "source": [
    "paths=list(adata.uns['terms'])\n",
    "if 4>1:\n",
    "    paths_ext=[]\n",
    "    for i in range(len(paths)):\n",
    "        for j in range(4):\n",
    "            paths_ext.append(paths[i]+\"_\"+str(j))\n",
    "\n",
    "    for i in range(4*1):\n",
    "        paths_ext.append(\"auxiliary_\"+str(i))\n",
    "else:\n",
    "    paths_ext=paths\n",
    "    for i in range(4*1):\n",
    "        paths_ext.append(\"auxiliary_\"+str(i))\n",
    "\n",
    "adata.obsm[\"Latent_sp\"]=latent_sp\n",
    "latent_sp=pd.DataFrame(z,columns=paths_ext)\n",
    "latent_sp.index=adata.obs_names\n",
    "adata.obsm[\"Latent_sp\"]=latent_sp"
   ]
  },
  {
   "cell_type": "code",
   "execution_count": null,
   "metadata": {},
   "outputs": [],
   "source": [
    "adata.write(\"/cluster/work/grlab/projects/projects2020-autoencoder_pathway/gamma_VAE/kang_2018/Kang_test_run.h5ad\")"
   ]
  },
  {
   "cell_type": "code",
   "execution_count": null,
   "metadata": {},
   "outputs": [],
   "source": []
  }
 ],
 "metadata": {
  "kernelspec": {
   "display_name": "tf_23",
   "language": "python",
   "name": "tf_23"
  },
  "language_info": {
   "codemirror_mode": {
    "name": "ipython",
    "version": 3
   },
   "file_extension": ".py",
   "mimetype": "text/x-python",
   "name": "python",
   "nbconvert_exporter": "python",
   "pygments_lexer": "ipython3",
   "version": "3.8.5"
  }
 },
 "nbformat": 4,
 "nbformat_minor": 2
}
