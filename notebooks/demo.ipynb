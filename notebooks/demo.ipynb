{
 "cells": [
  {
   "cell_type": "code",
   "execution_count": 1,
   "metadata": {
    "ExecuteTime": {
     "end_time": "2021-02-04T20:37:13.516381Z",
     "start_time": "2021-02-04T20:37:12.110326Z"
    }
   },
   "outputs": [],
   "source": [
    "import anndata\n",
    "import numpy as np\n",
    "import pandas as pd\n",
    "import tensorflow as tf\n",
    "\n",
    "from pathlib import Path\n",
    "from sklearn.model_selection import train_test_split\n",
    "\n",
    "from pmvae.model import PMVAE\n",
    "from pmvae.train import train\n",
    "from pmvae.utils import load_annotations"
   ]
  },
  {
   "cell_type": "code",
   "execution_count": 2,
   "metadata": {
    "ExecuteTime": {
     "end_time": "2021-02-03T11:02:17.938305Z",
     "start_time": "2021-02-03T11:02:17.602481Z"
    }
   },
   "outputs": [],
   "source": [
    "data = anndata.read('../data/kang_count.h5ad')\n",
    "data.varm['annotations'] = load_annotations(\n",
    "    '../data/c2.cp.reactome.v4.0.symbols.gmt',\n",
    "    data.var_names,\n",
    "    min_genes=13\n",
    ")\n"
   ]
  },
  {
   "cell_type": "code",
   "execution_count": 3,
   "metadata": {
    "ExecuteTime": {
     "end_time": "2021-02-03T11:02:51.557467Z",
     "start_time": "2021-02-03T11:02:51.516246Z"
    }
   },
   "outputs": [],
   "source": [
    "membership_mask = data.varm['annotations'].astype(bool).T\n",
    "trainset, testset = train_test_split(\n",
    "    data.X,\n",
    "    test_size=0.25,\n",
    "    shuffle=True,\n",
    "    random_state=0,\n",
    "    \n",
    ")\n",
    "\n",
    "batch_size = 256\n",
    "trainset = tf.data.Dataset.from_tensor_slices(trainset)\n",
    "trainset = trainset.shuffle(5 * batch_size).batch(batch_size)\n"
   ]
  },
  {
   "cell_type": "code",
   "execution_count": 4,
   "metadata": {
    "ExecuteTime": {
     "end_time": "2021-02-03T11:02:52.761803Z",
     "start_time": "2021-02-03T11:02:52.711672Z"
    }
   },
   "outputs": [],
   "source": [
    "model = PMVAE(\n",
    "    membership_mask=membership_mask.values,\n",
    "    module_latent_dim=4,\n",
    "    hidden_layers=[12],\n",
    "    add_auxiliary_module=True,\n",
    "    beta=1e-05,\n",
    "    kernel_initializer='he_uniform',\n",
    "    bias_initializer='zero',\n",
    "    activation='elu',\n",
    "    terms=membership_mask.index\n",
    ")\n",
    "\n",
    "opt = tf.keras.optimizers.Adam(learning_rate=0.001)\n"
   ]
  },
  {
   "cell_type": "code",
   "execution_count": 5,
   "metadata": {
    "ExecuteTime": {
     "end_time": "2021-02-03T11:02:59.620356Z",
     "start_time": "2021-02-03T11:02:56.463024Z"
    }
   },
   "outputs": [
    {
     "name": "stderr",
     "output_type": "stream",
     "text": [
      "100%|██████████| 1200/1200 [47:47<00:00,  2.39s/it]\n"
     ]
    }
   ],
   "source": [
    "# This should take ~1hr on GPU (first iter takes ~1m)\n",
    "history = train(model, opt, trainset, testset, nepochs=1200)"
   ]
  },
  {
   "cell_type": "code",
   "execution_count": 6,
   "metadata": {},
   "outputs": [],
   "source": [
    "outputs = model.call(data.X)"
   ]
  },
  {
   "cell_type": "code",
   "execution_count": 7,
   "metadata": {},
   "outputs": [],
   "source": [
    "outpath = Path('../data/kang_recons.h5ad')\n",
    "\n",
    "recons = anndata.AnnData(\n",
    "    pd.DataFrame(\n",
    "        outputs.global_recon.numpy(),\n",
    "        index=data.obs_names,\n",
    "        columns=data.var_names),\n",
    "    obs=data.obs,\n",
    "    varm=data.varm,\n",
    ")\n",
    "\n",
    "recons.obsm['codes'] = pd.DataFrame(\n",
    "    outputs.z.numpy(),\n",
    "    index=data.obs_names,\n",
    "    columns=model.latent_space_names())\n",
    "\n",
    "recons.write(outpath)"
   ]
  },
  {
   "cell_type": "code",
   "execution_count": 8,
   "metadata": {},
   "outputs": [],
   "source": [
    "from sklearn.manifold import TSNE\n",
    "\n",
    "def extract_pathway_cols(df, pathway):\n",
    "    mask = df.columns.str.startswith(pathway + '-')\n",
    "    return df.loc[:, mask]\n",
    "\n",
    "def compute_tsnes(recons, pathways):\n",
    "    for key in pathways:\n",
    "        tsne = TSNE(n_components=2)\n",
    "        codes = extract_pathway_cols(recons.obsm['codes'], key)\n",
    "        tsne = pd.DataFrame(\n",
    "            TSNE().fit_transform(codes.values),\n",
    "            index=recons.obs_names,\n",
    "            columns=[f'{key}-0', f'{key}-1'])\n",
    "        yield tsne\n",
    "\n",
    "pathways = [\n",
    "    'REACTOME_INTERFERON_ALPHA_BETA_SIGNALING',\n",
    "    'REACTOME_CYTOKINE_SIGNALING_IN_IMMUNE_SYSTEM',\n",
    "    'REACTOME_TCR_SIGNALING',\n",
    "    'REACTOME_CELL_CYCLE']\n",
    "\n",
    "recons.obsm['pathway_tsnes'] = pd.concat(\n",
    "    compute_tsnes(recons, pathways),\n",
    "    axis=1)\n",
    "\n",
    "recons.write(outpath)"
   ]
  }
 ],
 "metadata": {
  "kernelspec": {
   "display_name": "Python 3",
   "language": "python",
   "name": "python3"
  },
  "language_info": {
   "codemirror_mode": {
    "name": "ipython",
    "version": 3
   },
   "file_extension": ".py",
   "mimetype": "text/x-python",
   "name": "python",
   "nbconvert_exporter": "python",
   "pygments_lexer": "ipython3",
   "version": "3.8.5"
  }
 },
 "nbformat": 4,
 "nbformat_minor": 4
}
