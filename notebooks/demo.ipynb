{
 "cells": [
  {
   "cell_type": "code",
   "execution_count": 2,
   "metadata": {
    "ExecuteTime": {
     "end_time": "2021-02-02T13:48:59.148251Z",
     "start_time": "2021-02-02T13:48:59.145603Z"
    }
   },
   "outputs": [],
   "source": [
    "import pmvae"
   ]
  },
  {
   "cell_type": "code",
   "execution_count": 1,
   "metadata": {
    "ExecuteTime": {
     "end_time": "2021-02-02T13:48:50.665677Z",
     "start_time": "2021-02-02T13:48:48.312184Z"
    }
   },
   "outputs": [
    {
     "name": "stderr",
     "output_type": "stream",
     "text": [
      "/Users/starks/software/anaconda/lib/python3.7/site-packages/anndata/core/anndata.py:17: FutureWarning: pandas.core.index is deprecated and will be removed in a future version.  The public classes are available in the top-level namespace.\n",
      "  from pandas.core.index import RangeIndex\n"
     ]
    },
    {
     "ename": "ModuleNotFoundError",
     "evalue": "No module named 'utils'",
     "output_type": "error",
     "traceback": [
      "\u001b[0;31m---------------------------------------------------------------------------\u001b[0m",
      "\u001b[0;31mModuleNotFoundError\u001b[0m                       Traceback (most recent call last)",
      "\u001b[0;32m<ipython-input-1-4330ea763bab>\u001b[0m in \u001b[0;36m<module>\u001b[0;34m\u001b[0m\n\u001b[1;32m      7\u001b[0m \u001b[0;32mfrom\u001b[0m \u001b[0msklearn\u001b[0m\u001b[0;34m.\u001b[0m\u001b[0mmodel_selection\u001b[0m \u001b[0;32mimport\u001b[0m \u001b[0mtrain_test_split\u001b[0m\u001b[0;34m\u001b[0m\u001b[0;34m\u001b[0m\u001b[0m\n\u001b[1;32m      8\u001b[0m \u001b[0;34m\u001b[0m\u001b[0m\n\u001b[0;32m----> 9\u001b[0;31m \u001b[0;32mfrom\u001b[0m \u001b[0mpmvae\u001b[0m\u001b[0;34m.\u001b[0m\u001b[0mmodel\u001b[0m \u001b[0;32mimport\u001b[0m \u001b[0mPMVAE\u001b[0m\u001b[0;34m\u001b[0m\u001b[0;34m\u001b[0m\u001b[0m\n\u001b[0m\u001b[1;32m     10\u001b[0m \u001b[0;32mfrom\u001b[0m \u001b[0mpmvae\u001b[0m\u001b[0;34m.\u001b[0m\u001b[0mtrain\u001b[0m \u001b[0;32mimport\u001b[0m \u001b[0mtrain\u001b[0m\u001b[0;34m\u001b[0m\u001b[0;34m\u001b[0m\u001b[0m\n",
      "\u001b[0;32m~/git/pmvae/pmvae/model.py\u001b[0m in \u001b[0;36m<module>\u001b[0;34m\u001b[0m\n\u001b[1;32m      2\u001b[0m \u001b[0;32mimport\u001b[0m \u001b[0mtensorflow\u001b[0m \u001b[0;32mas\u001b[0m \u001b[0mtf\u001b[0m\u001b[0;34m\u001b[0m\u001b[0;34m\u001b[0m\u001b[0m\n\u001b[1;32m      3\u001b[0m \u001b[0;34m\u001b[0m\u001b[0m\n\u001b[0;32m----> 4\u001b[0;31m from utils import (build_encoder_net,\n\u001b[0m\u001b[1;32m      5\u001b[0m                    \u001b[0mbuild_decoder_net\u001b[0m\u001b[0;34m,\u001b[0m\u001b[0;34m\u001b[0m\u001b[0;34m\u001b[0m\u001b[0m\n\u001b[1;32m      6\u001b[0m                    build_module_isolation_mask)\n",
      "\u001b[0;31mModuleNotFoundError\u001b[0m: No module named 'utils'"
     ]
    }
   ],
   "source": [
    "import anndata\n",
    "import numpy as np\n",
    "import pandas as pd\n",
    "import tensorflow as tf\n",
    "\n",
    "from pathlib import Path\n",
    "from sklearn.model_selection import train_test_split\n",
    "\n",
    "from pmvae.model import PMVAE\n",
    "from pmvae.train import train"
   ]
  },
  {
   "cell_type": "code",
   "execution_count": 2,
   "metadata": {},
   "outputs": [],
   "source": [
    "data = anndata.read('./data/kang_count.h5ad')\n",
    "\n",
    "membership_mask = data.varm['I'].astype(bool).T\n",
    "trainset, testset = train_test_split(data.X, shuffle=True, test_size=0.25)\n",
    "\n",
    "batch_size = 256\n",
    "trainset = tf.data.Dataset.from_tensor_slices(trainset)\n",
    "trainset = trainset.shuffle(5 * batch_size).batch(batch_size)"
   ]
  },
  {
   "cell_type": "code",
   "execution_count": 10,
   "metadata": {},
   "outputs": [],
   "source": [
    "model = PMVAE(\n",
    "    membership_mask, 4, [12],\n",
    "    add_auxiliary_module=True,\n",
    "    beta=1e-05,\n",
    "    kernel_initializer='he_uniform',\n",
    "    bias_initializer='zero',\n",
    "    activation='elu',\n",
    ")\n",
    "\n",
    "opt = tf.keras.optimizers.Adam(learning_rate=0.001)"
   ]
  },
  {
   "cell_type": "code",
   "execution_count": 4,
   "metadata": {},
   "outputs": [
    {
     "name": "stdout",
     "output_type": "stream",
     "text": [
      "199.64026670716703\n",
      "0.21853356 0.21849917\n"
     ]
    },
    {
     "data": {
      "text/html": [
       "<div>\n",
       "<style scoped>\n",
       "    .dataframe tbody tr th:only-of-type {\n",
       "        vertical-align: middle;\n",
       "    }\n",
       "\n",
       "    .dataframe tbody tr th {\n",
       "        vertical-align: top;\n",
       "    }\n",
       "\n",
       "    .dataframe thead th {\n",
       "        text-align: right;\n",
       "    }\n",
       "</style>\n",
       "<table border=\"1\" class=\"dataframe\">\n",
       "  <thead>\n",
       "    <tr style=\"text-align: right;\">\n",
       "      <th></th>\n",
       "      <th>train-loss</th>\n",
       "      <th>train-recon</th>\n",
       "      <th>train-kl</th>\n",
       "      <th>train-local</th>\n",
       "      <th>train-global</th>\n",
       "      <th>test-loss</th>\n",
       "      <th>test-recon</th>\n",
       "      <th>test-kl</th>\n",
       "      <th>test-local</th>\n",
       "      <th>test-global</th>\n",
       "    </tr>\n",
       "  </thead>\n",
       "  <tbody>\n",
       "    <tr>\n",
       "      <th>0</th>\n",
       "      <td>0.230926</td>\n",
       "      <td>0.230893</td>\n",
       "      <td>3.313144</td>\n",
       "      <td>0.115915</td>\n",
       "      <td>0.114978</td>\n",
       "      <td>0.218534</td>\n",
       "      <td>0.218499</td>\n",
       "      <td>3.438679</td>\n",
       "      <td>0.109987</td>\n",
       "      <td>0.108512</td>\n",
       "    </tr>\n",
       "  </tbody>\n",
       "</table>\n",
       "</div>"
      ],
      "text/plain": [
       "   train-loss  train-recon  train-kl  train-local  train-global  test-loss  \\\n",
       "0    0.230926     0.230893  3.313144     0.115915      0.114978   0.218534   \n",
       "\n",
       "   test-recon   test-kl  test-local  test-global  \n",
       "0    0.218499  3.438679    0.109987     0.108512  "
      ]
     },
     "execution_count": 4,
     "metadata": {},
     "output_type": "execute_result"
    }
   ],
   "source": [
    "history = train(model, opt, trainset, testset, nepochs=1200)"
   ]
  },
  {
   "cell_type": "code",
   "execution_count": 11,
   "metadata": {},
   "outputs": [],
   "source": [
    "outputs = model(data.X)"
   ]
  },
  {
   "cell_type": "code",
   "execution_count": 48,
   "metadata": {},
   "outputs": [],
   "source": [
    "def embeddings_to_df(codes, terms, index, add_auxiliary=True):\n",
    "    terms = list(terms)\n",
    "    if add_auxiliary:\n",
    "        terms.append('AUXILIARY')\n",
    "    terms = pd.Series(terms)\n",
    "    \n",
    "    latent_dim_per_pathway = codes.shape[1] // terms.size\n",
    "    term_index = np.tile(range(latent_dim_per_pathway), terms.size).astype(str)\n",
    "    terms = terms.repeat(latent_dim_per_pathway) + '-' + term_index.astype(str)\n",
    "    \n",
    "    return pd.DataFrame(codes, columns=terms.values, index=index)\n",
    "\n",
    "outdir = Path('./results')\n",
    "outdir.mkdir(exist_ok=True, parents=True)\n",
    "\n",
    "recons = anndata.AnnData(\n",
    "    outputs.global_recon.numpy(),\n",
    "    obs=data.obs,\n",
    "    uns=data.uns,\n",
    "    varm=data.varm,\n",
    ")\n",
    "\n",
    "recons.obsm['codes'] = embeddings_to_df(\n",
    "    outputs.mu.numpy(),\n",
    "    data.uns['terms'],\n",
    "    data.obs_names)\n",
    "\n",
    "recons.obsm['logvar'] = embeddings_to_df(\n",
    "    outputs.logvar.numpy(),\n",
    "    data.uns['terms'],\n",
    "    data.obs_names)\n",
    "\n",
    "data.write(outdir/'recons.h5ad')"
   ]
  }
 ],
 "metadata": {
  "kernelspec": {
   "display_name": "Python 3",
   "language": "python",
   "name": "python3"
  },
  "language_info": {
   "codemirror_mode": {
    "name": "ipython",
    "version": 3
   },
   "file_extension": ".py",
   "mimetype": "text/x-python",
   "name": "python",
   "nbconvert_exporter": "python",
   "pygments_lexer": "ipython3",
   "version": "3.7.3"
  }
 },
 "nbformat": 4,
 "nbformat_minor": 4
}
