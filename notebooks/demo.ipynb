{
 "cells": [
  {
   "cell_type": "code",
   "execution_count": 2,
   "metadata": {
    "ExecuteTime": {
     "end_time": "2021-02-03T11:01:33.077742Z",
     "start_time": "2021-02-03T11:01:29.934825Z"
    }
   },
   "outputs": [],
   "source": [
    "import anndata\n",
    "import numpy as np\n",
    "import pandas as pd\n",
    "import tensorflow as tf\n",
    "\n",
    "from pathlib import Path\n",
    "from sklearn.model_selection import train_test_split\n",
    "\n",
    "from pmvae.model import PMVAE\n",
    "from pmvae.train import train"
   ]
  },
  {
   "cell_type": "code",
   "execution_count": 3,
   "metadata": {
    "ExecuteTime": {
     "end_time": "2021-02-03T11:01:44.386258Z",
     "start_time": "2021-02-03T11:01:44.378112Z"
    }
   },
   "outputs": [],
   "source": [
    "def remove_unneeded_keys_kang(data):\n",
    "    data.obs = data.obs[['condition', 'cell_type']]\n",
    "    data.uns = dict()\n",
    "    data.obsm = None\n",
    "    data.varm = None\n",
    "    \n",
    "    return\n",
    "\n",
    "def load_annotations(gmt, genes, min_genes=13):\n",
    "    genesets = load_gmt_genesets(gmt, genes, min_genes)\n",
    "    annotations = pd.DataFrame(False, index=genes, columns=genesets.keys())\n",
    "    for key, genes in genesets.items():\n",
    "        annotations.loc[genes, key] = True\n",
    "\n",
    "    return annotations\n",
    "\n",
    "def load_gmt_genesets(path, symbols=None, min_genes=10):\n",
    "    lut = dict()\n",
    "    for line in open(path, 'r'):\n",
    "        key, _, *genes = line.strip().split()\n",
    "        if symbols is not None:\n",
    "            genes = symbols.intersection(genes).tolist()\n",
    "        if len(genes) < min_genes:\n",
    "            continue\n",
    "        lut[key] = genes\n",
    "        \n",
    "    return lut\n"
   ]
  },
  {
   "cell_type": "code",
   "execution_count": 4,
   "metadata": {
    "ExecuteTime": {
     "end_time": "2021-02-03T11:02:17.938305Z",
     "start_time": "2021-02-03T11:02:17.602481Z"
    }
   },
   "outputs": [],
   "source": [
    "data = anndata.read('../data/kang_count.h5ad')\n",
    "remove_unneeded_keys_kang(data)\n",
    "data.varm['annotations'] = load_annotations(\n",
    "    '../data/c2.cp.reactome.v4.0.symbols.gmt',\n",
    "    data.var_names)\n"
   ]
  },
  {
   "cell_type": "code",
   "execution_count": 4,
   "metadata": {
    "ExecuteTime": {
     "end_time": "2021-02-03T11:02:51.557467Z",
     "start_time": "2021-02-03T11:02:51.516246Z"
    }
   },
   "outputs": [],
   "source": [
    "membership_mask = data.varm['annotations'].values.astype(bool).T\n",
    "trainset, testset = train_test_split(\n",
    "    data.X,\n",
    "    test_size=0.25,\n",
    "    shuffle=True,\n",
    "    random_state=0\n",
    ")\n",
    "\n",
    "batch_size = 256\n",
    "trainset = tf.data.Dataset.from_tensor_slices(trainset)\n",
    "trainset = trainset.shuffle(5 * batch_size).batch(batch_size)\n"
   ]
  },
  {
   "cell_type": "code",
   "execution_count": 5,
   "metadata": {
    "ExecuteTime": {
     "end_time": "2021-02-03T11:02:52.761803Z",
     "start_time": "2021-02-03T11:02:52.711672Z"
    }
   },
   "outputs": [],
   "source": [
    "model = PMVAE(\n",
    "    membership_mask, 4, [12],\n",
    "    add_auxiliary_module=True,\n",
    "    beta=1e-05,\n",
    "    kernel_initializer='he_uniform',\n",
    "    bias_initializer='zero',\n",
    "    activation='elu',\n",
    ")\n",
    "\n",
    "opt = tf.keras.optimizers.Adam(learning_rate=0.001)\n"
   ]
  },
  {
   "cell_type": "code",
   "execution_count": null,
   "metadata": {
    "ExecuteTime": {
     "end_time": "2021-02-03T11:02:59.620356Z",
     "start_time": "2021-02-03T11:02:56.463024Z"
    }
   },
   "outputs": [
    {
     "name": "stderr",
     "output_type": "stream",
     "text": [
      " 41%|████▏     | 495/1200 [27:21<38:17,  3.26s/it] "
     ]
    }
   ],
   "source": [
    "# This should take ~1hr on a GPU (first iter takes much longer than rest)\n",
    "history = train(model, opt, trainset, testset, nepochs=1200)"
   ]
  },
  {
   "cell_type": "code",
   "execution_count": 11,
   "metadata": {},
   "outputs": [],
   "source": [
    "outputs = model.call(data.X)"
   ]
  },
  {
   "cell_type": "code",
   "execution_count": 33,
   "metadata": {},
   "outputs": [],
   "source": [
    "from sklearn.manifold import TSNE\n",
    "\n",
    "def extract_pathway_cols(df, pathway):\n",
    "    mask = df.columns.str.startswith(pathway + '-')\n",
    "    \n",
    "    return df.loc[:, mask]\n",
    "\n",
    "def embeddings_to_df(codes, terms, index, add_auxiliary=True):\n",
    "    terms = list(terms)\n",
    "    if add_auxiliary:\n",
    "        terms.append('AUXILIARY')\n",
    "    terms = pd.Series(terms)\n",
    "    \n",
    "    latent_dim_per_pathway = codes.shape[1] // terms.size\n",
    "    term_index = np.tile(range(latent_dim_per_pathway), terms.size).astype(str)\n",
    "    terms = terms.repeat(latent_dim_per_pathway) + '-' + term_index.astype(str)\n",
    "    \n",
    "    return pd.DataFrame(codes, columns=terms.values, index=index)\n",
    "\n",
    "outdir = Path('../results')\n",
    "outdir.mkdir(exist_ok=True, parents=True)\n",
    "\n",
    "recons = anndata.AnnData(\n",
    "    pd.DataFrame(\n",
    "        outputs.global_recon.numpy(),\n",
    "        index=data.obs_names,\n",
    "        columns=data.var_names),\n",
    "    obs=data.obs,\n",
    "    varm=data.varm,\n",
    ")\n",
    "\n",
    "recons.obsm['codes'] = embeddings_to_df(\n",
    "    outputs.z.numpy(),\n",
    "    data.varm['annotations'].columns,\n",
    "    data.obs_names)\n",
    "\n",
    "recons.write(outdir/'recons.h5ad')"
   ]
  },
  {
   "cell_type": "code",
   "execution_count": null,
   "metadata": {},
   "outputs": [],
   "source": [
    "pathways = [\n",
    "    'REACTOME_INTERFERON_ALPHA_BETA_SIGNALING',\n",
    "    'REACTOME_CYTOKINE_SIGNALING_IN_IMMUNE_SYSTEM',\n",
    "    'REACTOME_TCR_SIGNAL',\n",
    "    'REACTOME_CELL_CYCLE']\n",
    "\n",
    "for key in pathways:\n",
    "    codes = extract_pathway_cols(recons.obsm['codes'], key)\n",
    "    recons.obsm[f'code_tsne-{key}'] = TSNE().fit_transform(codes.values)\n",
    "\n",
    "recons.write(outdir/'recons.h5ad')    "
   ]
  }
 ],
 "metadata": {
  "kernelspec": {
   "display_name": "Python 3",
   "language": "python",
   "name": "python3"
  },
  "language_info": {
   "codemirror_mode": {
    "name": "ipython",
    "version": 3
   },
   "file_extension": ".py",
   "mimetype": "text/x-python",
   "name": "python",
   "nbconvert_exporter": "python",
   "pygments_lexer": "ipython3",
   "version": "3.8.5"
  }
 },
 "nbformat": 4,
 "nbformat_minor": 4
}
