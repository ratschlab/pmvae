{
 "cells": [
  {
   "cell_type": "code",
   "execution_count": 1,
   "metadata": {},
   "outputs": [],
   "source": [
    "import anndata\n",
    "import numpy as np\n",
    "import tensorflow as tf\n",
    "\n",
    "from sklearn.model_selection import train_test_split\n",
    "\n",
    "from model import PMVAE\n",
    "from train import train"
   ]
  },
  {
   "cell_type": "code",
   "execution_count": 2,
   "metadata": {},
   "outputs": [],
   "source": [
    "data = anndata.read(\n",
    "    '/cluster/work/grlab/projects/projects2020-autoencoder_pathway/'\n",
    "    'gamma_VAE/kang_2018/kang_count.h5ad')\n",
    "\n",
    "membership_mask = data.varm['I'].astype(bool).T\n",
    "trainset, testset = train_test_split(data.X, shuffle=True, test_size=0.25)\n",
    "\n",
    "batch_size = 256\n",
    "trainset = tf.data.Dataset.from_tensor_slices(trainset)\n",
    "trainset = trainset.shuffle(5 * batch_size).batch(batch_size)"
   ]
  },
  {
   "cell_type": "code",
   "execution_count": 3,
   "metadata": {},
   "outputs": [],
   "source": [
    "model = PMVAE(\n",
    "    membership_mask, 4, [12],\n",
    "    beta=1e-05,\n",
    "    kernel_initializer='he_uniform',\n",
    "    bias_initializer='zero',\n",
    "    activation='elu',\n",
    ")\n",
    "\n",
    "opt = tf.keras.optimizers.Adam(learning_rate=0.001)"
   ]
  },
  {
   "cell_type": "code",
   "execution_count": 4,
   "metadata": {},
   "outputs": [
    {
     "name": "stdout",
     "output_type": "stream",
     "text": [
      "199.64026670716703\n",
      "0.21853356 0.21849917\n"
     ]
    },
    {
     "data": {
      "text/html": [
       "<div>\n",
       "<style scoped>\n",
       "    .dataframe tbody tr th:only-of-type {\n",
       "        vertical-align: middle;\n",
       "    }\n",
       "\n",
       "    .dataframe tbody tr th {\n",
       "        vertical-align: top;\n",
       "    }\n",
       "\n",
       "    .dataframe thead th {\n",
       "        text-align: right;\n",
       "    }\n",
       "</style>\n",
       "<table border=\"1\" class=\"dataframe\">\n",
       "  <thead>\n",
       "    <tr style=\"text-align: right;\">\n",
       "      <th></th>\n",
       "      <th>train-loss</th>\n",
       "      <th>train-recon</th>\n",
       "      <th>train-kl</th>\n",
       "      <th>train-local</th>\n",
       "      <th>train-global</th>\n",
       "      <th>test-loss</th>\n",
       "      <th>test-recon</th>\n",
       "      <th>test-kl</th>\n",
       "      <th>test-local</th>\n",
       "      <th>test-global</th>\n",
       "    </tr>\n",
       "  </thead>\n",
       "  <tbody>\n",
       "    <tr>\n",
       "      <th>0</th>\n",
       "      <td>0.230926</td>\n",
       "      <td>0.230893</td>\n",
       "      <td>3.313144</td>\n",
       "      <td>0.115915</td>\n",
       "      <td>0.114978</td>\n",
       "      <td>0.218534</td>\n",
       "      <td>0.218499</td>\n",
       "      <td>3.438679</td>\n",
       "      <td>0.109987</td>\n",
       "      <td>0.108512</td>\n",
       "    </tr>\n",
       "  </tbody>\n",
       "</table>\n",
       "</div>"
      ],
      "text/plain": [
       "   train-loss  train-recon  train-kl  train-local  train-global  test-loss  \\\n",
       "0    0.230926     0.230893  3.313144     0.115915      0.114978   0.218534   \n",
       "\n",
       "   test-recon   test-kl  test-local  test-global  \n",
       "0    0.218499  3.438679    0.109987     0.108512  "
      ]
     },
     "execution_count": 4,
     "metadata": {},
     "output_type": "execute_result"
    }
   ],
   "source": [
    "train(model, opt, trainset, testset, nepochs=1)"
   ]
  }
 ],
 "metadata": {
  "kernelspec": {
   "display_name": "Python 3",
   "language": "python",
   "name": "python3"
  },
  "language_info": {
   "codemirror_mode": {
    "name": "ipython",
    "version": 3
   },
   "file_extension": ".py",
   "mimetype": "text/x-python",
   "name": "python",
   "nbconvert_exporter": "python",
   "pygments_lexer": "ipython3",
   "version": "3.8.5"
  }
 },
 "nbformat": 4,
 "nbformat_minor": 4
}
